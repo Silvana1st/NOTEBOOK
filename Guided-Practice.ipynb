{
 "cells": [
  {
   "cell_type": "markdown",
   "metadata": {},
   "source": [
    "<img src=\"images/banner.PNG\" width=\"100%\" align=\"left\" />\n"
   ]
  },
  {
   "cell_type": "markdown",
   "metadata": {},
   "source": [
    "<table style=\"float:right;\">\n",
    "    <tr>\n",
    "        <td>                      \n",
    "            <div style=\"text-align: right\"><a href=\"\" target=\"_blank\">link to owner</a></div>\n",
    "            <div style=\"text-align: right\">Role</div>\n",
    "            <div style=\"text-align: right\">University of Manchester</div>\n",
    "         </td>\n",
    "         <td>\n",
    "             <img src=\"images/owner-image.PNG\" />\n",
    "         </td>\n",
    "     </tr>\n",
    "</table>"
   ]
  },
  {
   "cell_type": "markdown",
   "metadata": {},
   "source": [
    "# Notebook title\n",
    "****"
   ]
  },
  {
   "cell_type": "markdown",
   "metadata": {},
   "source": [
    "#### About this Notebook\n",
    "Introductory text about this notebook to be used as meta data in order to store them easily so students can find them by searching or browsing.  <br/> This notebook will take you through the topic in a step by step way and is <code>guided</code> practice notebook.  <br/>There are others in this area  .\n"
   ]
  },
  {
   "cell_type": "markdown",
   "metadata": {},
   "source": [
    "<div class=\"alert alert-block alert-warning\"><b>Learning Objectives:</b> \n",
    "    \n",
    "- Explain the concept of how reinforcement learning \n",
    "    \n",
    "- Investigate how it works through two games\n",
    "\n",
    "- Describe the rationale for using reinforcement learning algorithms\n",
    "\n",
    "</div> "
   ]
  },
  {
   "cell_type": "markdown",
   "metadata": {},
   "source": [
    "<a id=\"top\"></a>\n",
    "\n",
    "<b>Table of contents</b><br/>\n",
    "\n",
    "1.0 [Sub topic 1](#item1)\n",
    "\n",
    "2.0 [Sub topic 2](#item2)\n",
    "\n",
    "3.0 [Sub topic 3](#item3)\n",
    "\n",
    "4.0 [Sub topic 4](#item4)\n",
    "\n",
    "5.0 [Sub topic 5](#item5)\n"
   ]
  },
  {
   "cell_type": "markdown",
   "metadata": {},
   "source": [
    "<a id=\"datachallenge\"></a>\n",
    "\n",
    "## Item 1 heading sentence case"
   ]
  },
  {
   "cell_type": "markdown",
   "metadata": {},
   "source": [
    "It has been quoted that:<br>\n",
    "<blockquote>\n",
    "    Quotation.<br>\n",
    "       - <i>Author</i>\n",
    "</blockquote> \n",
    "Introduction "
   ]
  },
  {
   "cell_type": "markdown",
   "metadata": {},
   "source": [
    "Images will be sat in a central space available such as a repository on GitHub so they can be used in eLab and in AWS platforms so for example <code>https://github.com/i3hsInnovation/resources/blob/7f7f7b810a6cfc2b3deb8740e26b25bd05727918/images/banner_introProg.png?raw=true</code>\n",
    "\n",
    "The following sections illustrate the different types of activities you could include in the notebook to support <em>guided Practice</em>"
   ]
  },
  {
   "cell_type": "markdown",
   "metadata": {},
   "source": [
    "### Item1.1 Learning Activities"
   ]
  },
  {
   "cell_type": "markdown",
   "metadata": {
    "cell_style": "split"
   },
   "source": [
    "<img src=\"images/acquisition.png\" width=\"50%\" align=\"left\" />"
   ]
  },
  {
   "cell_type": "markdown",
   "metadata": {
    "cell_style": "split"
   },
   "source": [
    "### Acquisition\n",
    "Lots of notebooks will include some acquisition type of learning activities.  These can include explanations about the topic to set the scene and could be in text, podcast,a short video and diagrams. <br/>\n",
    "Key things to remember will be in green Note boxes as shown below: "
   ]
  },
  {
   "cell_type": "markdown",
   "metadata": {},
   "source": [
    "<div class=\"alert alert-success\">\n",
    "    <strong>Note:</strong> To subset by groups, there is a useful <code>groupby()</code> function. If you want to see some examples, have a look at <a href=\"https://www.geeksforgeeks.org/pandas-groupby/\" target=\"_blank\">this</a>. \n",
    "</div>"
   ]
  },
  {
   "cell_type": "markdown",
   "metadata": {
    "cell_style": "split"
   },
   "source": [
    "<img src=\"images/investigation.png\" width=\"50%\" align=\"left\" />"
   ]
  },
  {
   "cell_type": "markdown",
   "metadata": {
    "cell_style": "split"
   },
   "source": [
    "### Investigation\n",
    "Lots of notebooks will include some acquisition type of learning activities.  These can include explanations about the topic to set the scene and could be in text, podcast,a short video and diagrams. <br/>"
   ]
  },
  {
   "cell_type": "markdown",
   "metadata": {
    "cell_style": "split"
   },
   "source": [
    "<img src=\"images/practice.png\" width=\"50%\" align=\"left\" />"
   ]
  },
  {
   "cell_type": "markdown",
   "metadata": {
    "cell_style": "split"
   },
   "source": [
    "### Practice\n",
    "Lots of notebooks will include some practice activities.  These will give you a task to complete and will be in blue boxes as shown below:<br/>"
   ]
  },
  {
   "cell_type": "markdown",
   "metadata": {
    "solution2": "hidden",
    "solution2_first": true
   },
   "source": [
    "<div class=\"alert alert-block alert-info\">\n",
    "<b>Task 1:</b>\n",
    "<br> \n",
    "    1. How many rows does the <code>type1_filtered</code> dataset have now? (<strong>Hint:</strong> use the <code>len()</code> function)<br>\n",
    "    2. Using the code above, try filtering the data for <code>Type 2</code> admissions.<br>\n",
    "    3. Display the data using the <code>head()</code> function.\n",
    "</div>"
   ]
  },
  {
   "cell_type": "code",
   "execution_count": 1,
   "metadata": {
    "solution2": "hidden"
   },
   "outputs": [
    {
     "ename": "NameError",
     "evalue": "name 'type1_filtered' is not defined",
     "output_type": "error",
     "traceback": [
      "\u001b[1;31m---------------------------------------------------------------------------\u001b[0m",
      "\u001b[1;31mNameError\u001b[0m                                 Traceback (most recent call last)",
      "\u001b[1;32m<ipython-input-1-e5cbf5824f68>\u001b[0m in \u001b[0;36m<module>\u001b[1;34m\u001b[0m\n\u001b[1;32m----> 1\u001b[1;33m \u001b[0mlen\u001b[0m\u001b[1;33m(\u001b[0m\u001b[0mtype1_filtered\u001b[0m\u001b[1;33m)\u001b[0m\u001b[1;33m\u001b[0m\u001b[1;33m\u001b[0m\u001b[0m\n\u001b[0m",
      "\u001b[1;31mNameError\u001b[0m: name 'type1_filtered' is not defined"
     ]
    }
   ],
   "source": [
    "len(type1_filtered)"
   ]
  },
  {
   "cell_type": "code",
   "execution_count": null,
   "metadata": {
    "solution2": "hidden"
   },
   "outputs": [],
   "source": [
    "type2 = ae_dataset[[\"Org name\", \"Number of A&E attendances Type 2\"]]"
   ]
  },
  {
   "cell_type": "code",
   "execution_count": null,
   "metadata": {
    "solution2": "hidden"
   },
   "outputs": [],
   "source": [
    "type2.head()"
   ]
  },
  {
   "cell_type": "code",
   "execution_count": null,
   "metadata": {
    "solution2": "hidden"
   },
   "outputs": [],
   "source": [
    "gt_zero_admissions = type2[\"Number of A&E attendances Type 2\"] > 0"
   ]
  },
  {
   "cell_type": "code",
   "execution_count": null,
   "metadata": {
    "solution2": "hidden"
   },
   "outputs": [],
   "source": [
    "type2_filtered = type2[gt_zero_admissions]"
   ]
  },
  {
   "cell_type": "code",
   "execution_count": null,
   "metadata": {
    "solution2": "hidden"
   },
   "outputs": [],
   "source": [
    "type2_filtered.head()"
   ]
  },
  {
   "cell_type": "markdown",
   "metadata": {
    "cell_style": "split"
   },
   "source": [
    "<img src=\"images/production.png\" width=\"50%\" align=\"left\" />"
   ]
  },
  {
   "cell_type": "markdown",
   "metadata": {
    "cell_style": "split"
   },
   "source": [
    "### Production\n",
    "\n",
    "You will be asked to create your own personal learning journal.  When you see a <em>capture</em> button next to a cell select it to add that cell to your notebook learning journal. You can then build up a set of your own help, hints, practice code and snippets that you can refer to when you need it."
   ]
  },
  {
   "cell_type": "markdown",
   "metadata": {
    "solution2": "hidden"
   },
   "source": [
    "Here we can see that this is caused by a row containing totaled data. Let's go ahead and remove this final row."
   ]
  },
  {
   "cell_type": "markdown",
   "metadata": {
    "cell_style": "center"
   },
   "source": [
    "---\n",
    "\n",
    "#### Notebook details\n",
    "\n",
    "<i>Notebook created by Frances Hooley and Alan Davies</i>"
   ]
  },
  {
   "cell_type": "markdown",
   "metadata": {
    "cell_style": "split"
   },
   "source": [
    "##### Publish Date\n",
    "\n",
    "Publish date: September 2020"
   ]
  },
  {
   "cell_type": "markdown",
   "metadata": {
    "cell_style": "split"
   },
   "source": [
    "##### Review Date\n",
    "\n",
    "Review date: September 2021\n"
   ]
  },
  {
   "cell_type": "markdown",
   "metadata": {},
   "source": [
    "<a class=\"typeform-share button\" href=\"https://hub11.typeform.com/to/FoThMPWi\" data-mode=\"popup\" style=\"display:inline-block;text-decoration:none;background-color:#3A7685;color:white;cursor:pointer;font-family:Helvetica,Arial,sans-serif;font-size:18px;line-height:45px;text-align:center;margin:0;height:45px;padding:0px 30px;border-radius:22px;max-width:100%;white-space:nowrap;overflow:hidden;text-overflow:ellipsis;font-weight:bold;-webkit-font-smoothing:antialiased;-moz-osx-font-smoothing:grayscale;\" target=\"_blank\">Rate this notebook </a> <script> (function() { var qs,js,q,s,d=document, gi=d.getElementById, ce=d.createElement, gt=d.getElementsByTagName, id=\"typef_orm_share\", b=\"https://embed.typeform.com/\"; if(!gi.call(d,id)){ js=ce.call(d,\"script\"); js.id=id; js.src=b+\"embed.js\"; q=gt.call(d,\"script\")[0]; q.parentNode.insertBefore(js,q) } })() </script>"
   ]
  },
  {
   "cell_type": "markdown",
   "metadata": {
    "hide_input": true
   },
   "source": [
    "## Notes:"
   ]
  },
  {
   "cell_type": "code",
   "execution_count": null,
   "metadata": {},
   "outputs": [],
   "source": []
  }
 ],
 "metadata": {
  "celltoolbar": "Initialization Cell",
  "hide_input": false,
  "kernelspec": {
   "display_name": "Python 3",
   "language": "python",
   "name": "python3"
  },
  "language_info": {
   "codemirror_mode": {
    "name": "ipython",
    "version": 3
   },
   "file_extension": ".py",
   "mimetype": "text/x-python",
   "name": "python",
   "nbconvert_exporter": "python",
   "pygments_lexer": "ipython3",
   "version": "3.7.3"
  }
 },
 "nbformat": 4,
 "nbformat_minor": 4
}
